{
 "cells": [
  {
   "cell_type": "markdown",
   "id": "ae944a9a-33e6-4708-98f6-268664183944",
   "metadata": {},
   "source": [
    "# SQL Introduction"
   ]
  },
  {
   "cell_type": "code",
   "execution_count": null,
   "id": "aa0d9153-a1e6-4ab8-b137-a5f6d0c5bace",
   "metadata": {
    "tags": []
   },
   "outputs": [],
   "source": [
    "import pandas as pd\n",
    "from sqlalchemy import create_engine, text\n",
    "from IPython.display import display"
   ]
  },
  {
   "cell_type": "code",
   "execution_count": null,
   "id": "bc0584da-3bea-4ad7-8c18-baeb47eb437d",
   "metadata": {
    "tags": []
   },
   "outputs": [],
   "source": [
    "user = \"root\"\n",
    "password = \"\"\n",
    "db_name = \"small_ScienceStreaming\"\n",
    "port = 3306\n",
    "host = \"127.0.0.1\" # if host is not recognised, try using \"localhost\"\n",
    "connection_string = f\"mysql+mysqldb://{user}:{password}@{host}:{port}/{db_name}\"\n",
    "engine = create_engine(connection_string)"
   ]
  },
  {
   "cell_type": "raw",
   "id": "018bfa19-692e-42e7-ac5b-7838df4a1864",
   "metadata": {},
   "source": [
    "# one-liner\n",
    "engine = create_engine('mysql+mysqldb://root:@127.0.0.1:3306/ScienceStreaming')"
   ]
  },
  {
   "cell_type": "code",
   "execution_count": null,
   "id": "f87da517-0dc1-45d1-8302-7fecb7703d7e",
   "metadata": {
    "tags": []
   },
   "outputs": [],
   "source": [
    "def q(query, engine=engine):\n",
    "    with engine.begin() as conn:\n",
    "        return pd.read_sql_query(text(query), conn)"
   ]
  },
  {
   "cell_type": "markdown",
   "id": "15587d4b-ab5e-46e9-854a-2bcd48858a6d",
   "metadata": {
    "tags": [
     "fr"
    ]
   },
   "source": [
    "### Requête typique\n",
    "\n",
    "```sql\n",
    "SELECT <results> -- Ce que l'on va inclure dans le rendu final\n",
    "FROM <first_table> -- La table de départ\n",
    "LEFT JOIN <other_table> -- Type de jointure\n",
    "ON <first_table>.id = <other_table>.id -- On précise la clé de jointure\n",
    "WHERE <condition(s)> -- Les filtres à appliquer\n",
    "GROUP BY <columns_to_agregate> -- Les colonnes que nous allons grouper\n",
    "HAVING <condition(s)> -- les filtres après le GROUP BY\n",
    "```"
   ]
  },
  {
   "cell_type": "markdown",
   "id": "58a683de-92ea-4621-bea6-3a1b8519bf29",
   "metadata": {
    "tags": [
     "fr"
    ]
   },
   "source": [
    "### SELECT, LIMIT et *\n",
    "```sql\n",
    "SELECT <column(s)>\n",
    "FROM <table_name> LIMIT <number>\n",
    "```\n",
    "\n",
    "**>>>** Utilisez la syntaxe précédente pour afficher les deux premières lignes de toutes les tables dans la base de données. Identifiez les clés primaires et les clés étrangères."
   ]
  },
  {
   "cell_type": "code",
   "execution_count": null,
   "id": "2f6a436f-a1bb-48e3-93bb-f76afb09758e",
   "metadata": {
    "tags": []
   },
   "outputs": [],
   "source": [
    "# Code here!\n"
   ]
  },
  {
   "cell_type": "markdown",
   "id": "39261298-8f67-416b-8b84-e709c18d4105",
   "metadata": {
    "tags": [
     "fr"
    ]
   },
   "source": [
    "### COUNT, alias et \";\"\n",
    "```sql\n",
    "SELECT COUNT(*)FROM <my_table>;\n",
    "\n",
    "SELECT COUNT(*) (AS) <alias>\n",
    "FROM <table> (AS) <alias>;\n",
    "```\n",
    "\n",
    "**>>>** Utilisez la syntaxe précédente pour compter le nombre de lignes pour chaque table. Utilisez un alias pour raccourcir le nom des tables à 1, 2 ou 3 caractères. Utilisez un alias pour renommer les résultats."
   ]
  },
  {
   "cell_type": "code",
   "execution_count": null,
   "id": "f93034ef-4d7a-4965-a821-5f839ac97793",
   "metadata": {
    "tags": []
   },
   "outputs": [],
   "source": [
    "# Code here!\n"
   ]
  },
  {
   "cell_type": "markdown",
   "id": "c22c5854-b91e-4ea8-94ed-cadd9ef481ba",
   "metadata": {
    "tags": [
     "fr"
    ]
   },
   "source": [
    "### UNION\n",
    "\n",
    "Cet opérateur est utilisé pour concaténer les résultats de plusieurs `select`.\n",
    "\n",
    "```sql\n",
    "SELECT * FROM <table1>\n",
    "UNION\n",
    "SELECT * FROM <table2>;\n",
    "```\n",
    "\n",
    "**>>>** Affichez en une seule requête le nombre de ligne pour chaque table. Utilisez des strings (constantes) pour nommer les tables. Quand on utilise `COUNT()`, le premier alias que l'on utilise nomme toute la colonne."
   ]
  },
  {
   "cell_type": "code",
   "execution_count": null,
   "id": "dcd729d5-71b7-4a71-aec2-d9d86a22e4ab",
   "metadata": {
    "tags": []
   },
   "outputs": [],
   "source": [
    "# Code here!\n"
   ]
  },
  {
   "cell_type": "markdown",
   "id": "c720a629-04ee-48be-9551-18a26726cdb8",
   "metadata": {
    "tags": [
     "fr"
    ]
   },
   "source": [
    "### JOIN\n",
    "\n",
    "<div>\n",
    "<img src=\"files/sql_joins.png\" alt=\"JOIN\" width=\"100%\" align='left'/> </div>\n",
    "\n",
    "Une jointure fait correspondre deux tables et place à la suite du même enregistrement les lignes qui correspondent à la clé de jointure. Le résultat dépend du type de jointure choisie.\n",
    "\n",
    "Quand on utilise juste `JOIN`, cela signifie en général `INNER JOIN`.\n",
    "\n",
    "Il existe également le `CROSS JOIN`, dans ce cas précis, il n'est pas besoin de spécifier une clé puisque ce type de jointure va réaliser le produit cartésien entre deux tables. Si la table 1 a 30 lignes et la table 2 en a 40, le résultat d'un `CROSS JOIN` entre la table1 et la table2 aura 1200 lignes.\n",
    "\n",
    "```sql\n",
    "SELECT <colonnes>\n",
    "FROM <table1> (<alias>)\n",
    "LEFT JOIN <table2> (<alias>)\n",
    "ON <table1>.id = <table2>.id\n",
    "```\n",
    "\n",
    "L'opérateur `.` nous permet d'identifier une colonne de la table.\n",
    "\n",
    "**>>>** Executez les opérations suivantes :\n",
    "\n",
    "- A partir de la table \"planning\", effectuez une **JOINTURE GAUCHE** avec la table \"cours\" afin de regarder à quel nom de cours correspond chaque ID.\n",
    "\n",
    "- Comparez le nombre de lignes que possède la table \"planning\" avant et après la jointure. Quelle genre de relation ces deux tables entretiennent ? (1 à 1 ? 1 à n ? n à n ?)\n",
    "\n",
    "- Effectuez ensuite une seconde jointure afin d'afficher les noms des enseignants qui donnent les différents cours."
   ]
  },
  {
   "cell_type": "code",
   "execution_count": null,
   "id": "1a6d9084-023d-417b-8b77-751228b1dadd",
   "metadata": {
    "tags": []
   },
   "outputs": [],
   "source": [
    "# Code here! (first join)\n"
   ]
  },
  {
   "cell_type": "code",
   "execution_count": null,
   "id": "e8f61432-c5c0-463f-a0f6-661c95b944bb",
   "metadata": {
    "tags": []
   },
   "outputs": [],
   "source": [
    "# Code here! (compare tables size before and after join)\n"
   ]
  },
  {
   "cell_type": "code",
   "execution_count": null,
   "id": "76b176cb-93b1-41dd-a4cd-abf589656ff3",
   "metadata": {
    "tags": []
   },
   "outputs": [],
   "source": [
    "# Code here  (second join)\n"
   ]
  },
  {
   "cell_type": "markdown",
   "id": "f8345ae7-438d-4e05-977b-8ceb57b3ecbd",
   "metadata": {
    "tags": [
     "fr"
    ]
   },
   "source": [
    "**>>>** Effectuez une jointure gauche sur la table \"contacts\" afin d'afficher les champs suivants : idContact, les dates de début et de fin de l'abonnement, ainsi que le prix de l'abonnement.\n",
    "\n",
    "**>>>** Comparez le nombre de lignes dans cette table avec la même table sans jointure. Qu'en conclure ?"
   ]
  },
  {
   "cell_type": "code",
   "execution_count": null,
   "id": "c358cd4d-7799-4a59-8346-712bfd155ff0",
   "metadata": {
    "tags": []
   },
   "outputs": [],
   "source": [
    "# Code here!\n"
   ]
  },
  {
   "cell_type": "code",
   "execution_count": null,
   "id": "e1c06bea-3a5f-4a97-b08b-b9b0b1a9c808",
   "metadata": {
    "tags": []
   },
   "outputs": [],
   "source": [
    "# Code here!\n",
    "\n"
   ]
  },
  {
   "cell_type": "markdown",
   "id": "2dbf7d74-2cc8-4459-8335-e1d5c82c80c9",
   "metadata": {
    "tags": [
     "fr"
    ]
   },
   "source": [
    "**>>>** Effectuez une double jointure gauche en partant de la \"visionnages\", puis en y ajoutant la table \"planning\" et, enfin, \"cours\". Récupérez ainsi le nom du cours regardé.\n",
    "\n",
    "**>>>** Comparez le nombre de lignes dans cette table avec la même table sans jointure. Qu'en conclure ?"
   ]
  },
  {
   "cell_type": "code",
   "execution_count": null,
   "id": "983430a9-6b8f-4663-9fa7-d9e21b65d1b0",
   "metadata": {},
   "outputs": [],
   "source": [
    "# Code here!\n"
   ]
  },
  {
   "cell_type": "code",
   "execution_count": null,
   "id": "ff4adbda-92a2-4f20-b9ad-0b41c366239a",
   "metadata": {
    "tags": []
   },
   "outputs": [],
   "source": [
    "# Code here!\n"
   ]
  },
  {
   "cell_type": "markdown",
   "id": "2850cde6-ba0f-4855-942f-375bdf453fed",
   "metadata": {
    "tags": [
     "fr"
    ]
   },
   "source": [
    "### WHERE\n",
    "\n",
    "```sql\n",
    "SELECT COUNT(*)\n",
    "FROM <table1> <alias>\n",
    "WHERE <condition1>\n",
    "```\n",
    "On peut ajouter des conditions multiples ainsi que des parenthèses afin de prioriser certaines expressions.\n",
    "\n",
    "```sql\n",
    "SELECT COUNT(*)\n",
    "FROM <table1> <alias>\n",
    "WHERE <condition1>\n",
    "AND (<condition2> OR <condition3>)\n",
    "```\n",
    "\n",
    "**>>>** Affichez les personnes ayant le même prénom que vous."
   ]
  },
  {
   "cell_type": "code",
   "execution_count": null,
   "id": "3fdf9731-cbfa-420e-91e1-f5ab5bfb190c",
   "metadata": {
    "tags": []
   },
   "outputs": [],
   "source": [
    "# Code here!\n"
   ]
  },
  {
   "cell_type": "code",
   "execution_count": null,
   "id": "d90d833c-df63-4d85-bfba-e3636bc4149c",
   "metadata": {
    "tags": []
   },
   "outputs": [],
   "source": [
    "# Code here!\n"
   ]
  },
  {
   "cell_type": "markdown",
   "id": "d4b068df-cbff-486b-a88b-84ff5d250644",
   "metadata": {
    "tags": [
     "fr"
    ]
   },
   "source": [
    "Une personne est considérée comme ayant \"vu\" une vidéo si elle a regardé au moins 15ms de manière sans discontinuité.\n",
    "\n",
    "**>>>** Utilisez un `WHERE` pour filtrer la table visionnages and afficher les visionnages durant plus de 15mns, mais seulement pour les catégories de type \"Live\"."
   ]
  },
  {
   "cell_type": "code",
   "execution_count": null,
   "id": "7c38a870-7ffd-4c8c-a2ee-f167d154ccec",
   "metadata": {},
   "outputs": [],
   "source": [
    "# Code here!\n",
    "\n"
   ]
  },
  {
   "cell_type": "markdown",
   "id": "1ad8a37d-eddd-48c8-ac78-b528ab6027bc",
   "metadata": {
    "tags": [
     "fr"
    ]
   },
   "source": [
    "**>>>** Utilisez la même requête que le précédent exercice mais cette fois-ci ne prenez en compte que les vues pour novembre 2020. Vous pouvez utiliser un `BETWEEN` pour raccourcir la taille de votre code."
   ]
  },
  {
   "cell_type": "code",
   "execution_count": null,
   "id": "f32a4927-bc7a-40dd-9ff6-7c8bcfd36565",
   "metadata": {},
   "outputs": [],
   "source": [
    "# Code here!\n"
   ]
  },
  {
   "cell_type": "markdown",
   "id": "e8923475-95b2-4ae6-84f5-7ccf5e9ff606",
   "metadata": {
    "tags": [
     "fr"
    ]
   },
   "source": [
    "### GROUP BY et ORDER BY\n",
    "\n",
    "<div>\n",
    "<img src=\"files/sql_groupby.png\" alt=\"GROUP_BY\" width=\"100%\" align='left'/> </div>\n",
    "\n",
    "\n",
    "Des fonctions communes:\n",
    "- `SUM()`: Retourne la somme de chaque groupe.\n",
    "- `COUNT()`: Retourne le nombre de lignes de chaque groupe.\n",
    "- `AVG()`: Retourne la moyenne de chaque groupe.\n",
    "- `MIN()`: Retourne la valeur minimum de chaque groupe.\n",
    "- `MAX()`: Retourne la valeur maximale de chaque groupe.\n",
    "\n",
    "Exemple :\n",
    "\n",
    "```sql\n",
    "SELECT <column1>, COUNT(*)\n",
    "FROM <first_table>\n",
    "GROUP BY <column1>\n",
    "```\n",
    "\n",
    "Pour trier les résultats on peut utiliser un `ORDER BY`, on peut lui spécifier `ASC` (ascendant) ou `DESC` (descendant) à la fin.\n",
    "\n",
    "```sql\n",
    "SELECT <column1>, COUNT(*) nombre_de_lignes\n",
    "FROM <first_table>\n",
    "GROUP BY <column1>\n",
    "ORDER BY rows_number DESC\n",
    "```\n",
    "\n",
    "**>>>** Affichez le nombre d'hommes et de femmes dans la table contacts. Utilisez des alias pour réduire les noms des tables et pour nommer les résultats. Classez le résultats afin que la première ligne soit celle du groupe le plus grand."
   ]
  },
  {
   "cell_type": "code",
   "execution_count": null,
   "id": "1ecbd2a5-8304-44e2-80bd-e709c52d9648",
   "metadata": {},
   "outputs": [],
   "source": [
    "# Code here!\n"
   ]
  },
  {
   "cell_type": "markdown",
   "id": "25e04680-935b-4b60-8b05-f329df19cc64",
   "metadata": {
    "tags": [
     "fr"
    ]
   },
   "source": [
    "**>>>** Calculez, pour chae utilisateur, la durée totale du temps passé à regarder des vidéos (en heure et en secondes), le nombre de connexions au service, le temps moyen passé, leur visionnage le plus long ainsi que la durée minimale. Utilisez des alias pour raccourcir le code et renommer les colonnes de résultats. Filtrez les lignes afin de ne prendre en compte que les vues dont la durée est supérieure à 15mns. Utilisez un `ORDER BY` descendant sur la durée totale du temps passé à regarder des vidéos afin d'établir un classement."
   ]
  },
  {
   "cell_type": "code",
   "execution_count": null,
   "id": "73c043f0-f1a9-4cf2-aeeb-8ce22773e68c",
   "metadata": {
    "tags": []
   },
   "outputs": [],
   "source": [
    "# Code here!\n"
   ]
  },
  {
   "cell_type": "markdown",
   "id": "1d28f7fc-b3fc-43ae-957f-2b71b7ea496e",
   "metadata": {
    "tags": [
     "fr"
    ]
   },
   "source": [
    "**>>>** En réutilisant la précédente requête calculez les mêmes statistiques mais cette fois afin de regarder si le comportement des hommes et des femmes diffère. \n",
    "\n",
    "**>>>** Puis une seconde fois en comparant les départements 75 (Paris), 69 (Rhône) et 13 (Bouches-du-Rhône)."
   ]
  },
  {
   "cell_type": "code",
   "execution_count": null,
   "id": "f0041359-b8c1-4ffd-9af3-fb7119ead8da",
   "metadata": {
    "tags": []
   },
   "outputs": [],
   "source": [
    "# Code here!\n"
   ]
  },
  {
   "cell_type": "code",
   "execution_count": null,
   "id": "bafee25c-76e5-46c3-838e-8f8c0b333935",
   "metadata": {},
   "outputs": [],
   "source": [
    "# Code here!\n"
   ]
  },
  {
   "cell_type": "markdown",
   "id": "7d320e57-90e4-4158-9286-79511226b849",
   "metadata": {
    "tags": [
     "fr"
    ]
   },
   "source": [
    "### HAVING\n",
    "```sql\n",
    "SELECT <results> -- Ce que l'on va inclure dans le rendu final\n",
    "FROM <first_table> -- La table de départ\n",
    "LEFT JOIN <other_table> -- Type de jointure\n",
    "ON <first_table>.id = <other_table>.id -- On précise la clé de jointure\n",
    "WHERE <condition(s)> -- Les filtres à appliquer\n",
    "GROUP BY <columns_to_agregate> -- Les colonnes que nous allons grouper\n",
    "HAVING <condition(s)> -- les filtres après le GROUP BY\n",
    "```\n",
    "\n",
    "`HAVING` est utilisé pour filtrer sur des résultats agrégés. Alors que `WHERE` est utilisé quant à lui ets utilisé pour filtrer des lignes, `HAVING` peut filtrer des groupes.\n",
    "\n",
    "\n",
    "**>>>** Affichez les clients qui ont regardé plus de 10 heures de vidéo. N'oubliez pas d'inclure seulement les vues plus longues que 15 minutes. Classez le résultats par heures décroissantes."
   ]
  },
  {
   "cell_type": "code",
   "execution_count": null,
   "id": "1d677271-15f1-402c-ae43-dfa26af14c2e",
   "metadata": {},
   "outputs": [],
   "source": [
    "# Code here !\n",
    "\n"
   ]
  },
  {
   "cell_type": "markdown",
   "id": "81aa32d5-6cc6-42bf-ae66-ae54715c6f0e",
   "metadata": {
    "tags": [
     "fr"
    ]
   },
   "source": [
    "### Variables en MySql\n",
    "\n",
    "```sql\n",
    "SET @<variable> = <valeur>, @<variable_2> = <valeur>;\n",
    "```\n",
    "\n",
    "Cette instruction ne fonctionnera pas si elle est exécutée dans un jupyter notebook car elle ne retourne aucune ligne. Pour créer une variable dans un notebook jupyter, utilisez la syntaxe classique de python."
   ]
  },
  {
   "cell_type": "markdown",
   "id": "995dac87-9f02-4d8b-ab0d-fbd0d0e04f07",
   "metadata": {
    "tags": [
     "fr"
    ]
   },
   "source": [
    "### Les dates en MySQL\n",
    "\n",
    "MySQL comprend nativement les dates et peut effectuer des opérations avec celles-ci."
   ]
  },
  {
   "cell_type": "code",
   "execution_count": null,
   "id": "2d1748ac-5ed0-49d9-92fb-46a4e90404b4",
   "metadata": {
    "tags": []
   },
   "outputs": [],
   "source": [
    "my_date = \"CAST('2022-11-01 11:29:32.0000000' AS DATETIME)\"\n",
    "q(f\"\"\"\n",
    "SELECT \"DAY\" unit, DAY({my_date}) result\n",
    "UNION\n",
    "SELECT \"MONTH\", MONTH({my_date})\n",
    "UNION\n",
    "SELECT \"YEAR\", YEAR({my_date})\n",
    "UNION\n",
    "SELECT \"HOUR\", HOUR({my_date})\n",
    "UNION\n",
    "SELECT \"REMOVE\", DATE_ADD({my_date}, INTERVAL -2 MONTH)\n",
    "UNION\n",
    "SELECT \"ADD\", DATE_ADD({my_date}, INTERVAL 2 YEAR);\n",
    "\"\"\")"
   ]
  },
  {
   "cell_type": "markdown",
   "id": "681a7abf-e305-4273-9427-0b5e0bbc5026",
   "metadata": {
    "tags": [
     "fr"
    ]
   },
   "source": [
    "**>>>** Affichez le nombre de vues (au moins de 15 minutes) pour chaque mois et chaque année des données disponibles."
   ]
  },
  {
   "cell_type": "code",
   "execution_count": null,
   "id": "532c4511-5f81-448d-92c8-577d10952ef7",
   "metadata": {},
   "outputs": [],
   "source": [
    "# Code here!\n"
   ]
  },
  {
   "cell_type": "markdown",
   "id": "8536cef1-c8c5-4a76-b100-f318d894ff1d",
   "metadata": {
    "tags": [
     "fr"
    ]
   },
   "source": [
    "### CASE\n",
    "\n",
    "```sql\n",
    "CASE\n",
    "WHEN <condition> THEN <valeur>\n",
    "WHEN <condition> THEN <valeur>\n",
    "ELSE <valeur>\n",
    "END\n",
    "```\n",
    "**>>>** En ne prenant en compte que les départements 75, 59, 68, 13, 06 et 83, affichez les noms et les prénoms de chaque client, ainsi qu'une colonne indiquant 'nordiste' ou 'sudiste' en fonction de leur origine géographique.\n",
    "\n",
    "**>>>** Comptez ensuite le nombre de 'nordistes' et de 'sudistes'.\n",
    "\n",
    "Astuce: Vous pouvez utiliser la syntaxe suivante pour raccourcir votre code.\n",
    "```sql\n",
    "WHERE codeDept IN ('75', '59', '68', '13', '06', '83');\n",
    "```"
   ]
  },
  {
   "cell_type": "code",
   "execution_count": null,
   "id": "362a552d-671a-46a5-8493-9f771b260e31",
   "metadata": {},
   "outputs": [],
   "source": [
    "# Code here!"
   ]
  },
  {
   "cell_type": "code",
   "execution_count": null,
   "id": "0b892f54-35f3-4b9f-a987-2cd936e73680",
   "metadata": {},
   "outputs": [],
   "source": [
    "# Code here! (count)\n"
   ]
  },
  {
   "cell_type": "markdown",
   "id": "39ba31b7-371b-4662-815c-c479ae2d4215",
   "metadata": {
    "tags": [
     "fr"
    ]
   },
   "source": [
    "### Date d'aujourd'hui\n",
    "\n",
    "```sql\n",
    "SELECT CURDATE();\n",
    "```\n",
    "La date d'aujourd'hui est la date du serveur, sur les serveurs celle-ci est souvent au format UTC (anciennement appelé GMT), donc l'heure de Greenwich. Dans ce cas vous devez donc ajouter 1h en hiver et 2h en été pour trouver le temps actuel en France."
   ]
  },
  {
   "cell_type": "markdown",
   "id": "fdb889ab-02c6-411e-8bae-2e1434955e4a",
   "metadata": {
    "tags": [
     "fr"
    ]
   },
   "source": [
    "### Différence entre deux dates\n",
    "\n",
    "Vous pouvez calculer le nombre d'années, de mois, de jours, d'heures, de minutes ou encore de secondes en utilisant cette syntaxe :"
   ]
  },
  {
   "cell_type": "code",
   "execution_count": null,
   "id": "7968769a-f704-435c-8087-2e707e746469",
   "metadata": {
    "tags": []
   },
   "outputs": [],
   "source": [
    "q(\"\"\"\n",
    "SELECT TIMESTAMPDIFF(MONTH, '2023-05-29', '2023-06-28') month_diff\n",
    "\"\"\")"
   ]
  },
  {
   "cell_type": "code",
   "execution_count": null,
   "id": "d7187df7-7452-4c7f-bd81-eeaafed4673a",
   "metadata": {},
   "outputs": [],
   "source": [
    "q(\"\"\"\n",
    "SELECT TIMESTAMPDIFF(MONTH, '2023-05-29', '2023-06-30') month_diff\n",
    "\"\"\")"
   ]
  },
  {
   "cell_type": "markdown",
   "id": "47fd217e-e03d-4dcc-978b-86b269acc059",
   "metadata": {
    "tags": [
     "fr"
    ]
   },
   "source": [
    "**>>>** On désire savoir pour chaque utilisateur ayant eu un abonnement payant le nombre total d'argent qu'il a versé à l'entreprise jusqu'à aujourd'hui. Le prix de l'abonnement est mensuel, celui-ci sera donc multiplié par le nombre de mois. Si la durée est de moins d'un mois, il devra être multiplié par 1.\n",
    "\n",
    "**Astuce**:\n",
    "- La fonction `round()` marche également en SQL.\n",
    "- L'opérateur \"différent de\" en SQL s'écrit `<>`."
   ]
  },
  {
   "cell_type": "code",
   "execution_count": null,
   "id": "c006bde4-14e4-49dd-8560-eec2514c5983",
   "metadata": {},
   "outputs": [],
   "source": [
    "# Code here!\n"
   ]
  },
  {
   "cell_type": "markdown",
   "id": "d080c9b3-4a2a-4f0e-8521-4af422b21b58",
   "metadata": {
    "tags": [
     "fr"
    ]
   },
   "source": [
    "**>>>** Ecrivez une requête qui affiche le nombre total de vues pour chaque client ayant une occurrence dans la table \"visionnages\" pour le mois d'août 2020.\n",
    "\n",
    "**Astuce**: N'oubliez pas que vous pouvez utiliser `BETWEEN` pour délimiter les dates de la manière suivante:\n",
    "\n",
    "```sql\n",
    "WHERE <colonne> BETWEEN <date1> AND <date2>\n",
    "```"
   ]
  },
  {
   "cell_type": "code",
   "execution_count": null,
   "id": "737387b9-fdd9-41cf-ab14-669984173ad9",
   "metadata": {},
   "outputs": [],
   "source": [
    "# Code here!\n"
   ]
  },
  {
   "cell_type": "markdown",
   "id": "7691fad6-1a89-451b-80a1-1955f0093497",
   "metadata": {
    "tags": [
     "fr"
    ]
   },
   "source": [
    "### Sous-requêtes\n",
    "\n",
    "```sql\n",
    "WITH <subquery> AS\n",
    "(SELECT <column(s)> FROM <table1>)\n",
    "SELECT <column(s)> FROM <subquery>\n",
    "```\n",
    "\n",
    "**>>>** Un abonné peut avoir plusieurs abonnements. Nous voulons connaître la distribution du nombre d'abonnements, comme un `value_counts()` le ferait. Ce qui veut dire, combien de personnes ont eu un abonnement, combien en ont eu deux, trois etc."
   ]
  },
  {
   "cell_type": "code",
   "execution_count": null,
   "id": "f5043da1-7f47-4b0d-b1ba-cdc7f89b2a8b",
   "metadata": {},
   "outputs": [],
   "source": [
    "# Code here!"
   ]
  },
  {
   "cell_type": "markdown",
   "id": "60715993-4656-4c35-b7ec-35c6caf1c21b",
   "metadata": {
    "tags": [
     "fr"
    ]
   },
   "source": [
    "### `ROW NUMBER()` (*window fonction*)\n",
    "\n",
    "Elle nous permet de séparer les lignes en différents groupes et d'effectuer des opérations sur chacun de ces groupes.\n",
    "\n",
    "La syntaxe est :\n",
    "```sql\n",
    "ROW_NUMBER() OVER (<partition_definition> <order_definition>)\n",
    "```\n",
    "\n",
    "**>>>** Affichez les champs idContact, dateDebut, idAbonnement depuis la table \"abonnements\". En utilisant la fonction `ROW_NUMBER()`, ajoutez une nouvelle colonne appelée 'abo_num' qui numérotera le nombre de différents abonnements qu'a eu chaque client, en commençant par le plus vieux. Le plus vieux sera donc labellisé \"1\", le second \"2\" etc."
   ]
  },
  {
   "cell_type": "code",
   "execution_count": null,
   "id": "286a1330-bfa5-47ed-9128-0bf703dd1465",
   "metadata": {},
   "outputs": [],
   "source": [
    "# Code here!\n"
   ]
  },
  {
   "cell_type": "markdown",
   "id": "fae5ffe9-95bb-4c91-9b0b-3016a32c74ea",
   "metadata": {
    "tags": [
     "fr"
    ]
   },
   "source": [
    "### Requête finale\n",
    "\n",
    "Est-il possible de prédire la probabilité qu'un client avec un abonnement gratuit finisse par en prendre un payant ?\n",
    "\n",
    "Pour cela, nous aurons besoin d'exporter un fichier tabulaire qui contiendra nos *features* (X):\n",
    "- Le statut d'une personne (age, genre, département).\n",
    "- Le temps total passé à regarder des vidéos.\n",
    "- Le cours que chaque client a regardé le plus, ainsi que le professeur associé.\n",
    "- Et, bien sûr si la personne a ensuite pris un abonnement payant ou non (y) !"
   ]
  },
  {
   "cell_type": "code",
   "execution_count": null,
   "id": "611e8e12-9d6b-4cdc-8cfa-0294f9958d6b",
   "metadata": {},
   "outputs": [],
   "source": [
    "# Code here!\n"
   ]
  }
 ],
 "metadata": {
  "kernelspec": {
   "display_name": "Python 3 (ipykernel)",
   "language": "python",
   "name": "python3"
  },
  "language_info": {
   "codemirror_mode": {
    "name": "ipython",
    "version": 3
   },
   "file_extension": ".py",
   "mimetype": "text/x-python",
   "name": "python",
   "nbconvert_exporter": "python",
   "pygments_lexer": "ipython3",
   "version": "3.10.9"
  }
 },
 "nbformat": 4,
 "nbformat_minor": 5
}
