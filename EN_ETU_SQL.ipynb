{
 "cells": [
  {
   "cell_type": "markdown",
   "id": "ae944a9a-33e6-4708-98f6-268664183944",
   "metadata": {},
   "source": [
    "# SQL Introduction"
   ]
  },
  {
   "cell_type": "code",
   "execution_count": null,
   "id": "aa0d9153-a1e6-4ab8-b137-a5f6d0c5bace",
   "metadata": {
    "tags": []
   },
   "outputs": [],
   "source": [
    "import pandas as pd\n",
    "from sqlalchemy import create_engine, text\n",
    "from IPython.display import display"
   ]
  },
  {
   "cell_type": "code",
   "execution_count": null,
   "id": "bc0584da-3bea-4ad7-8c18-baeb47eb437d",
   "metadata": {
    "tags": []
   },
   "outputs": [],
   "source": [
    "user = \"root\"\n",
    "password = \"\"\n",
    "db_name = \"small_ScienceStreaming\"\n",
    "port = 3306\n",
    "host = \"127.0.0.1\" # if host is not recognised, try using \"localhost\"\n",
    "connection_string = f\"mysql+mysqldb://{user}:{password}@{host}:{port}/{db_name}\"\n",
    "engine = create_engine(connection_string)"
   ]
  },
  {
   "cell_type": "raw",
   "id": "018bfa19-692e-42e7-ac5b-7838df4a1864",
   "metadata": {},
   "source": [
    "# one-liner\n",
    "engine = create_engine('mysql+mysqldb://root:@127.0.0.1:3306/ScienceStreaming')"
   ]
  },
  {
   "cell_type": "code",
   "execution_count": null,
   "id": "f87da517-0dc1-45d1-8302-7fecb7703d7e",
   "metadata": {
    "tags": []
   },
   "outputs": [],
   "source": [
    "def q(query, engine=engine):\n",
    "    with engine.begin() as conn:\n",
    "        return pd.read_sql_query(text(query), conn)"
   ]
  },
  {
   "cell_type": "markdown",
   "id": "00d41ee9-2f40-4e3f-86dd-658523b28568",
   "metadata": {
    "tags": [
     "en"
    ]
   },
   "source": [
    "### Typical Request\n",
    "\n",
    "```sql\n",
    "SELECT <results> -- what will be included in the final output\n",
    "FROM <first_table> -- original table we will use\n",
    "LEFT JOIN <other_table> -- type of join\n",
    "ON <first_table>.id = <other_table>.id -- specify the join key\n",
    "WHERE <condition(s)> -- how we are going to filter\n",
    "GROUP BY <columns_to_agregate> -- on what columns are we going to perform agregations\n",
    "HAVING <condition(s)> -- we can filter after performing a GROUP BY\n",
    "```"
   ]
  },
  {
   "cell_type": "markdown",
   "id": "e62320d1-4f2a-4778-88a2-ec6dc2705c1c",
   "metadata": {
    "tags": [
     "en"
    ]
   },
   "source": [
    "### SELECT, LIMIT and *\n",
    "```sql\n",
    "SELECT <column(s)>\n",
    "FROM <table_name> LIMIT <number>\n",
    "```\n",
    "\n",
    "**>>>** Use the previous syntax to display the first 2 lines of every table in your database. Identify the primary keys and the foreign key."
   ]
  },
  {
   "cell_type": "code",
   "execution_count": null,
   "id": "2f6a436f-a1bb-48e3-93bb-f76afb09758e",
   "metadata": {
    "tags": []
   },
   "outputs": [],
   "source": [
    "# Code here!\n"
   ]
  },
  {
   "cell_type": "markdown",
   "id": "34b108f1-b0fd-49f4-98b0-1caad5a39097",
   "metadata": {
    "tags": [
     "en"
    ]
   },
   "source": [
    "### COUNT, alias and \";\"\n",
    "```sql\n",
    "SELECT COUNT(*)FROM <my_table>;\n",
    "\n",
    "SELECT COUNT(*) (AS) <alias>\n",
    "FROM <table> (AS) <alias>;\n",
    "```\n",
    "\n",
    "**>>>** Use the previous syntax to count the number of line for each table. Use an alias to shorten the name of the table to 1, 2 or 3 characters. Use an alias to rename the results."
   ]
  },
  {
   "cell_type": "code",
   "execution_count": null,
   "id": "f93034ef-4d7a-4965-a821-5f839ac97793",
   "metadata": {
    "tags": []
   },
   "outputs": [],
   "source": [
    "# Code here!\n"
   ]
  },
  {
   "cell_type": "markdown",
   "id": "209cfe08-7317-4e55-965c-917d2648cd31",
   "metadata": {
    "tags": [
     "en"
    ]
   },
   "source": [
    "### UNION\n",
    "\n",
    "Used to concatenate different ``select`` outputs.\n",
    "\n",
    "```sql\n",
    "SELECT * FROM <table1>\n",
    "UNION\n",
    "SELECT * FROM <table2>;\n",
    "```\n",
    "\n",
    "**>>>** Display in a single query the number of row for each table. Use strings (constants) to name the tables. When using COUNT(), the first alias you use will give the name of the entire column."
   ]
  },
  {
   "cell_type": "code",
   "execution_count": null,
   "id": "dcd729d5-71b7-4a71-aec2-d9d86a22e4ab",
   "metadata": {
    "tags": []
   },
   "outputs": [],
   "source": [
    "# Code here!\n"
   ]
  },
  {
   "cell_type": "markdown",
   "id": "a7219bb9-d77f-4783-bb86-f7940c1dbb1b",
   "metadata": {
    "tags": [
     "en"
    ]
   },
   "source": [
    "### JOINS\n",
    "\n",
    "<div>\n",
    "<img src=\"files/sql_joins.png\" alt=\"CPU\" width=\"100%\" align='left'/> </div>\n",
    "\n",
    "A join stitches two tables and puts on the same row records with matching fields according to the type of JOIN you choose.\n",
    "\n",
    "When we write just \"JOIN\", it usually means \"INNER JOIN\".\n",
    "\n",
    "There's also the CROSS JOIN. No need to specify a key as this type of JOIN will perform a cartesian product between the two tables. If table1 has 30 rows and table2 has 40 rows, the CROSS JOIN of table1 and table2 will have 1200 rows.\n",
    "\n",
    "```sql\n",
    "SELECT <colonnes>\n",
    "FROM <table1> (<alias>)\n",
    "LEFT JOIN <table2> (<alias>)\n",
    "ON <table1>.id = <table2>.id\n",
    "```\n",
    "\n",
    "The \".\" operator allows to identify a column in the table.\n",
    "\n",
    "**>>>** Use the JOIN clause to do the following:\n",
    "\n",
    "- From the \"planning\" table, perform a **LEFT JOIN** with the \"cours\" table to look at which course name corresponds to each ID.\n",
    "\n",
    "- Compare the number of rows in this table before and after. What kind of relationship do these two tables have? (1 to 1? 1 to n? n to n?)\n",
    "\n",
    "- Perform a second join afterwards to display the names of the teachers who teach the different courses."
   ]
  },
  {
   "cell_type": "code",
   "execution_count": null,
   "id": "1a6d9084-023d-417b-8b77-751228b1dadd",
   "metadata": {
    "tags": []
   },
   "outputs": [],
   "source": [
    "# Code here! (first join)\n"
   ]
  },
  {
   "cell_type": "code",
   "execution_count": null,
   "id": "e8f61432-c5c0-463f-a0f6-661c95b944bb",
   "metadata": {
    "tags": []
   },
   "outputs": [],
   "source": [
    "# Code here! (compare tables size before and after join)\n"
   ]
  },
  {
   "cell_type": "code",
   "execution_count": null,
   "id": "76b176cb-93b1-41dd-a4cd-abf589656ff3",
   "metadata": {
    "tags": []
   },
   "outputs": [],
   "source": [
    "# Code here  (second join)\n"
   ]
  },
  {
   "cell_type": "markdown",
   "id": "a23821d1-82ba-4990-a26c-9b6dc683e915",
   "metadata": {
    "tags": [
     "en"
    ]
   },
   "source": [
    "**>>>** Perform a left join on \"contacts\" table to display the ContactId, the start and end dates and the subscription, and the subscription price.\n",
    "\n",
    "**>>>** Compare the number of rows in this table with the same table without the join. What can you conclude from this?"
   ]
  },
  {
   "cell_type": "code",
   "execution_count": null,
   "id": "c358cd4d-7799-4a59-8346-712bfd155ff0",
   "metadata": {
    "tags": []
   },
   "outputs": [],
   "source": [
    "# Code here!\n"
   ]
  },
  {
   "cell_type": "code",
   "execution_count": null,
   "id": "e1c06bea-3a5f-4a97-b08b-b9b0b1a9c808",
   "metadata": {
    "tags": []
   },
   "outputs": [],
   "source": [
    "# Code here!\n",
    "\n"
   ]
  },
  {
   "cell_type": "markdown",
   "id": "e10b7b5a-1bc3-4083-b395-40356cb66c83",
   "metadata": {
    "tags": [
     "en"
    ]
   },
   "source": [
    "**>>>** Perform a double left join from the \"visionnages\" table with the \"planning\" table and then the \"cours\" table to retrieve the name of the course that has been viewed.\n",
    "\n",
    "**>>>** Compare the number of rows in this table against the same table without the join. What can you conclude from this?"
   ]
  },
  {
   "cell_type": "code",
   "execution_count": null,
   "id": "983430a9-6b8f-4663-9fa7-d9e21b65d1b0",
   "metadata": {},
   "outputs": [],
   "source": [
    "# Code here!\n"
   ]
  },
  {
   "cell_type": "code",
   "execution_count": null,
   "id": "ff4adbda-92a2-4f20-b9ad-0b41c366239a",
   "metadata": {
    "tags": []
   },
   "outputs": [],
   "source": [
    "# Code here!\n"
   ]
  },
  {
   "cell_type": "markdown",
   "id": "5f7414ad-01e2-4713-b2ec-5403b14e6b51",
   "metadata": {
    "tags": [
     "en"
    ]
   },
   "source": [
    "### Where\n",
    "\n",
    "```sql\n",
    "SELECT COUNT(*)\n",
    "FROM <table1> <alias>\n",
    "WHERE <condition1>\n",
    "```\n",
    "We can add multiple conditions, and add parenthesis to prioritise some expressions.\n",
    "\n",
    "```sql\n",
    "SELECT COUNT(*)\n",
    "FROM <table1> <alias>\n",
    "WHERE <condition1>\n",
    "AND (<condition2> OR <condition3>)\n",
    "```\n",
    "\n",
    "**>>>** Display people who have the same first name as you."
   ]
  },
  {
   "cell_type": "code",
   "execution_count": null,
   "id": "3fdf9731-cbfa-420e-91e1-f5ab5bfb190c",
   "metadata": {
    "tags": []
   },
   "outputs": [],
   "source": [
    "# Code here!\n"
   ]
  },
  {
   "cell_type": "markdown",
   "id": "8b3e4ead-0958-43e8-bdba-603de5c78c95",
   "metadata": {
    "tags": [
     "en"
    ]
   },
   "source": [
    "**>>>** Display people called 'Charlotte' who live in the department 75 or 13."
   ]
  },
  {
   "cell_type": "code",
   "execution_count": null,
   "id": "d90d833c-df63-4d85-bfba-e3636bc4149c",
   "metadata": {
    "tags": []
   },
   "outputs": [],
   "source": [
    "# Code here!\n"
   ]
  },
  {
   "cell_type": "markdown",
   "id": "3b711275-84ab-4e2e-83b4-caef04719cad",
   "metadata": {
    "tags": [
     "en"
    ]
   },
   "source": [
    "A person is only considered to have actually \"seen\" a video if they have watched it for at least 15 minutes without stopping.\n",
    "\n",
    "**>>>** Use a WHERE to filter the \"visionnages\" table and display the number of views longer than 15 minutes, but only for the \"Live\" type viewings."
   ]
  },
  {
   "cell_type": "code",
   "execution_count": null,
   "id": "7c38a870-7ffd-4c8c-a2ee-f167d154ccec",
   "metadata": {},
   "outputs": [],
   "source": [
    "# Code here!\n",
    "\n"
   ]
  },
  {
   "cell_type": "markdown",
   "id": "5db708d8-b4df-407b-8e6b-956765adba7e",
   "metadata": {
    "tags": [
     "en"
    ]
   },
   "source": [
    "**>>>** Use the same query than the last exercice but this time only take into account the views for November 2020. You can use a BETWEEN to shorten the size of your code."
   ]
  },
  {
   "cell_type": "code",
   "execution_count": null,
   "id": "f32a4927-bc7a-40dd-9ff6-7c8bcfd36565",
   "metadata": {},
   "outputs": [],
   "source": [
    "# Code here!\n"
   ]
  },
  {
   "cell_type": "markdown",
   "id": "d7b8bdd2-81f3-487e-8677-f36164cb6f88",
   "metadata": {
    "tags": [
     "en"
    ]
   },
   "source": [
    "### GROUP BY and ORDER BY\n",
    "\n",
    "<div>\n",
    "<img src=\"files/sql_groupby.png\" alt=\"CPU\" width=\"100%\" align='left'/> </div>\n",
    "\n",
    "\n",
    "Some common functions:\n",
    "- SUM(): Returns the sum or total of each group.\n",
    "- COUNT(): Returns the number of rows in each group.\n",
    "- AVG(): Returns the average of each group.\n",
    "- MIN(): Returns the minimum value for each group.\n",
    "- MAX(): Returns the maximum value for each group.\n",
    "\n",
    "Example :\n",
    "\n",
    "```sql\n",
    "SELECT <column1>, COUNT(*)\n",
    "FROM <first_table>\n",
    "GROUP BY <column1>\n",
    "```\n",
    "\n",
    "To sort the results we can use an ORDER BY. You can specify ASC (default) or DESC at the end.\n",
    "\n",
    "```sql\n",
    "SELECT <column1>, COUNT(*) rows_number\n",
    "FROM <first_table>\n",
    "GROUP BY <column1>\n",
    "ORDER BY rows_number DESC\n",
    "```\n",
    "\n",
    "**>>>** Display the number of men and women in the contacts table. Use aliases to shorten table names and name result columns. Sort the results so the first line is the largest group."
   ]
  },
  {
   "cell_type": "code",
   "execution_count": null,
   "id": "1ecbd2a5-8304-44e2-80bd-e709c52d9648",
   "metadata": {},
   "outputs": [],
   "source": [
    "# Code here!\n"
   ]
  },
  {
   "cell_type": "markdown",
   "id": "24e1e3c3-78ea-432e-87ed-c21d38d143f7",
   "metadata": {
    "tags": [
     "en"
    ]
   },
   "source": [
    "**>>>** Calculate, for each user, the sum of time spent watching videos (in seconds and in hours), the number of connections, the average time spent, their longest duration viewing as well as the minimum duration. Use aliases to shorten code and rename columns. Filter the rows to take only views > 900. Use an ORDER BY DESC on the sum of time watching videos to establish a ranking."
   ]
  },
  {
   "cell_type": "code",
   "execution_count": null,
   "id": "73c043f0-f1a9-4cf2-aeeb-8ce22773e68c",
   "metadata": {
    "tags": []
   },
   "outputs": [],
   "source": [
    "# Code here!\n"
   ]
  },
  {
   "cell_type": "markdown",
   "id": "8c976c52-c835-4435-afa1-7441d5d053b3",
   "metadata": {
    "tags": [
     "en"
    ]
   },
   "source": [
    "**>>>** Using the previous query again, calculate the same statistics but the first time to see if men and women differ. \n",
    "\n",
    "**>>>** Then a second time comparing departments 75 (Paris), 69 (Rhône) and 13 (Bouches-du-Rhône)."
   ]
  },
  {
   "cell_type": "code",
   "execution_count": null,
   "id": "f0041359-b8c1-4ffd-9af3-fb7119ead8da",
   "metadata": {
    "tags": []
   },
   "outputs": [],
   "source": [
    "# Code here!\n"
   ]
  },
  {
   "cell_type": "code",
   "execution_count": null,
   "id": "bafee25c-76e5-46c3-838e-8f8c0b333935",
   "metadata": {},
   "outputs": [],
   "source": [
    "# Code here!\n"
   ]
  },
  {
   "cell_type": "markdown",
   "id": "5e3d8287-0deb-4f43-8e9e-8f9a121481ec",
   "metadata": {
    "tags": [
     "en"
    ]
   },
   "source": [
    "### Having\n",
    "\n",
    "```sql\n",
    "SELECT <results> -- what will be included in the final output\n",
    "FROM <first_table> -- original table we will use\n",
    "LEFT JOIN <other_table> -- type of join\n",
    "ON <first_table>.id = <other_table>.id -- specify the join key\n",
    "WHERE <condition(s)> -- how we are going to filter\n",
    "GROUP BY <columns_to_agregate> -- on what columns are we going to perform agregations\n",
    "HAVING <condition(s)> -- we can filter after performing a GROUP BY\n",
    "```\n",
    "\n",
    "HAVING is used to filter agregated results. Whereas WHERE is used to filter rows, HAVING can filter groups.\n",
    "\n",
    "\n",
    "**>>>** Display customers who have watched more than 10 hours of video. Don't forget to include only views longer than 15 minutes (900 seconds). Sort the result by decreasing hours."
   ]
  },
  {
   "cell_type": "code",
   "execution_count": null,
   "id": "1d677271-15f1-402c-ae43-dfa26af14c2e",
   "metadata": {},
   "outputs": [],
   "source": [
    "# Code here !\n",
    "\n"
   ]
  },
  {
   "cell_type": "markdown",
   "id": "f5318802-98a1-4406-bf3e-4f8aed0aff16",
   "metadata": {
    "tags": [
     "en"
    ]
   },
   "source": [
    "### Variables in MySql\n",
    "\n",
    "```sql\n",
    "SET @<variable> = <valeur>, @<variable_2> = <valeur>;\n",
    "```\n",
    "\n",
    "This instruction will not work if executed inside a jupyter notebook because no row is returned. To create a variable in a jupyter notebook, use the basic python syntax."
   ]
  },
  {
   "cell_type": "markdown",
   "id": "6844b6a3-1601-4ec1-97cf-7a9f9a0ea41d",
   "metadata": {
    "tags": [
     "en"
    ]
   },
   "source": [
    "### Dates in MySql\n",
    "\n",
    "MySql understands dates and operations can be applied on them."
   ]
  },
  {
   "cell_type": "code",
   "execution_count": null,
   "id": "2d1748ac-5ed0-49d9-92fb-46a4e90404b4",
   "metadata": {
    "tags": []
   },
   "outputs": [],
   "source": [
    "my_date = \"CAST('2022-11-01 11:29:32.0000000' AS DATETIME)\"\n",
    "q(f\"\"\"\n",
    "SELECT \"DAY\" unit, DAY({my_date}) result\n",
    "UNION\n",
    "SELECT \"MONTH\", MONTH({my_date})\n",
    "UNION\n",
    "SELECT \"YEAR\", YEAR({my_date})\n",
    "UNION\n",
    "SELECT \"HOUR\", HOUR({my_date})\n",
    "UNION\n",
    "SELECT \"REMOVE\", DATE_ADD({my_date}, INTERVAL -2 MONTH)\n",
    "UNION\n",
    "SELECT \"ADD\", DATE_ADD({my_date}, INTERVAL 2 YEAR);\n",
    "\"\"\")"
   ]
  },
  {
   "cell_type": "markdown",
   "id": "b4b6f21b-ac29-4909-ba6d-117bad3135ac",
   "metadata": {
    "tags": [
     "en"
    ]
   },
   "source": [
    "**>>>** Display the number of views (one view is a view that lasted at least 15mns), for each month and year in the data."
   ]
  },
  {
   "cell_type": "code",
   "execution_count": null,
   "id": "532c4511-5f81-448d-92c8-577d10952ef7",
   "metadata": {},
   "outputs": [],
   "source": [
    "# Code here!\n"
   ]
  },
  {
   "cell_type": "markdown",
   "id": "404565ed-5531-44d2-8e47-44564371b46d",
   "metadata": {
    "tags": [
     "en"
    ]
   },
   "source": [
    "### CASE\n",
    "\n",
    "```sql\n",
    "CASE\n",
    "WHEN <condition> THEN <valeur>\n",
    "WHEN <condition> THEN <valeur>\n",
    "ELSE <valeur>\n",
    "END\n",
    "```\n",
    "**>>>** Taking only the departments of 75, 59, 68, 13, 06 and 83. Display the surname and first name of each customer, as well as a new column indicating 'northerner' or 'southerner' according to their origin.\n",
    "\n",
    "**>>>** Then count the number of \"northerners\" and \"southerners\"\n",
    "\n",
    "Tip: you can use the following syntax to shorten your code:\n",
    "```sql\n",
    "WHERE codeDept IN ('75', '59', '68', '13', '06', '83');\n",
    "```"
   ]
  },
  {
   "cell_type": "code",
   "execution_count": null,
   "id": "362a552d-671a-46a5-8493-9f771b260e31",
   "metadata": {},
   "outputs": [],
   "source": [
    "# Code here!"
   ]
  },
  {
   "cell_type": "code",
   "execution_count": null,
   "id": "0b892f54-35f3-4b9f-a987-2cd936e73680",
   "metadata": {},
   "outputs": [],
   "source": [
    "# Code here! (count)\n"
   ]
  },
  {
   "cell_type": "markdown",
   "id": "29ff6d5e-ed4c-4f91-9319-a3fdb438c349",
   "metadata": {
    "tags": [
     "en"
    ]
   },
   "source": [
    "### Today's date\n",
    "\n",
    "```sql\n",
    "SELECT CURDATE();\n",
    "```\n",
    "The today date is the date of the server, this one is often in UTC (formerly called GMT), so Greenwich time. You need to add 1h during winter and 2h in summer to find the current time in France.\n",
    "\n"
   ]
  },
  {
   "cell_type": "markdown",
   "id": "2e5d0ad6-8b73-4b82-aac9-0287f6afaccb",
   "metadata": {
    "tags": [
     "en"
    ]
   },
   "source": [
    "### Difference between two dates\n",
    "\n",
    "You can compute the number of year, month, day, hour, minute, seconds using this syntax:"
   ]
  },
  {
   "cell_type": "code",
   "execution_count": null,
   "id": "7968769a-f704-435c-8087-2e707e746469",
   "metadata": {
    "tags": []
   },
   "outputs": [],
   "source": [
    "q(\"\"\"\n",
    "SELECT TIMESTAMPDIFF(MONTH, '2023-05-29', '2023-06-28') month_diff\n",
    "\"\"\")"
   ]
  },
  {
   "cell_type": "code",
   "execution_count": null,
   "id": "d7187df7-7452-4c7f-bd81-eeaafed4673a",
   "metadata": {},
   "outputs": [],
   "source": [
    "q(\"\"\"\n",
    "SELECT TIMESTAMPDIFF(MONTH, '2023-05-29', '2023-06-30') month_diff\n",
    "\"\"\")"
   ]
  },
  {
   "cell_type": "markdown",
   "id": "f1c95cee-ad92-4311-866a-62786e8d7912",
   "metadata": {
    "tags": [
     "en"
    ]
   },
   "source": [
    "**>>>** We want to know for each customer who has had a paid subscription the total amount they have paid to the company up to today's date. The price of the subscription is monthly. The price will therefore have to be multiplied by the number of months. If the duration is less than one month, it will have to be multiplied by 1.\n",
    "\n",
    "**Tip**:\n",
    "- The ``round()`` function also works in SQL.\n",
    "- The different from operator in SQL is `<>`"
   ]
  },
  {
   "cell_type": "code",
   "execution_count": null,
   "id": "c006bde4-14e4-49dd-8560-eec2514c5983",
   "metadata": {},
   "outputs": [],
   "source": [
    "# Code here!\n"
   ]
  },
  {
   "cell_type": "markdown",
   "id": "580019b0-4aa3-4f2c-acca-1681b92c291a",
   "metadata": {
    "tags": [
     "en"
    ]
   },
   "source": [
    "**>>>** Write a query that displays the number of views for each customer with an occurrence in the views table for August 2020.\n",
    "\n",
    "**Tip**: You can use BETWEEN to delimit dates as follows:\n",
    "\n",
    "```sql\n",
    "WHERE <colonne> BETWEEN <date1> AND <date2>\n",
    "```"
   ]
  },
  {
   "cell_type": "code",
   "execution_count": null,
   "id": "737387b9-fdd9-41cf-ab14-669984173ad9",
   "metadata": {},
   "outputs": [],
   "source": [
    "# Code here!\n"
   ]
  },
  {
   "cell_type": "markdown",
   "id": "77b85767-2bbc-4f81-bc53-42ac1c25f709",
   "metadata": {
    "tags": [
     "en"
    ]
   },
   "source": [
    "### Subqueries\n",
    "\n",
    "```sql\n",
    "WITH <subquery> AS\n",
    "(SELECT <column(s)> FROM <table1>)\n",
    "SELECT <column(s)> FROM <subquery>\n",
    "```\n",
    "\n",
    "**>>>** A subscriber can have several subscriptions. We want to know the distribution of the number of subscriptions, just as a ``value_counts()`` would do. That is to say, how many people have had only one subscription, how many have had two, how many have had three, etc."
   ]
  },
  {
   "cell_type": "code",
   "execution_count": null,
   "id": "f5043da1-7f47-4b0d-b1ba-cdc7f89b2a8b",
   "metadata": {},
   "outputs": [],
   "source": [
    "# Code here!"
   ]
  },
  {
   "cell_type": "markdown",
   "id": "4d4069ae-7171-43be-9602-a2de5005ca86",
   "metadata": {
    "tags": [
     "en"
    ]
   },
   "source": [
    "### Final query\n",
    "\n",
    "Is it possible to predict the probability that a customer with a free subscription will eventually buy one?\n",
    "\n",
    "To do this, we will export a tabular file which will contain (X) :\n",
    "The status information of a person (age, gender, dept)\n",
    "The total time spent watching videos\n",
    "The course that each client has watched the most, and the associated teacher.\n",
    "\n",
    "And of course whether the person has ever had a paid subscription or not (y)!"
   ]
  },
  {
   "cell_type": "code",
   "execution_count": null,
   "id": "611e8e12-9d6b-4cdc-8cfa-0294f9958d6b",
   "metadata": {},
   "outputs": [],
   "source": [
    "# Code here!\n"
   ]
  },
  {
   "cell_type": "code",
   "execution_count": null,
   "id": "7ee4ecf4-f33a-4f48-99f8-01ef74788281",
   "metadata": {
    "tags": []
   },
   "outputs": [],
   "source": [
    "%%time\n",
    "\n",
    "q(\"\"\"\n",
    "WITH recap AS(\n",
    "SELECT\n",
    "vi.idContact\n",
    ", co.nomCours\n",
    ", co.idCours\n",
    ", pr.idProf\n",
    ", pr.prenom\n",
    ", pr.nom\n",
    ", SUM(secondesVues) AS temps_visionne_en_s\n",
    "FROM visionnages vi\n",
    "INNER JOIN planning pl ON vi.idPlanning = pl.idPlanning\n",
    "INNER JOIN cours co ON pl.idCours = co.idCours\n",
    "INNER JOIN profs pr ON pl.idProf = pr.idProf\n",
    "GROUP BY\n",
    "vi.idContact\n",
    ", co.nomCours\n",
    ", co.idCours\n",
    ", pr.idProf\n",
    ", pr.prenom\n",
    ", pr.nom\n",
    "ORDER BY idContact DESC),\n",
    "classement AS (\n",
    "SELECT \n",
    "idContact,\n",
    "temps_visionne_en_s,\n",
    "idCours,\n",
    "nomCours,\n",
    "idProf,\n",
    "nom,\n",
    "prenom,\n",
    "ROW_NUMBER() OVER (\n",
    "    PARTITION BY idContact \n",
    "    ORDER BY temps_visionne_en_s DESC) row_num\n",
    "FROM \n",
    "recap),\n",
    "top_cours_par_client AS\n",
    "(SELECT * FROM classement WHERE row_num = 1),\n",
    "r AS (\n",
    "SELECT idContact,\n",
    "SUM(prix) AS somme_prix_unitaire\n",
    "FROM abonnements\n",
    "GROUP BY idContact),\n",
    "v AS (\n",
    "SELECT idContact,\n",
    "SUM(secondesVues) temps_total_visionne_en_s\n",
    "FROM visionnages\n",
    "GROUP BY idcontact)\n",
    "SELECT\n",
    "r.idContact\n",
    ", c.sexe AS genre\n",
    ", c.codeDept\n",
    ", c.dateNaissance\n",
    ", t.idCours AS top_idCours\n",
    ", t.nomCours AS top_nomCours\n",
    ", t.idProf AS top_idProf\n",
    ", t.prenom AS top_prenomProf\n",
    ", t.nom AS top_nomProf\n",
    ", TIMESTAMPDIFF(YEAR, dateNaissance, CURDATE()) AS age -- optionnel\n",
    "-- , v.temps_total_visionne_en_s, -- contient des NULL donc on fait un CASE :\n",
    ", CASE WHEN v.temps_total_visionne_en_s IS NULL THEN 0\n",
    "       ELSE v.temps_total_visionne_en_s END\n",
    "       AS temps_total_visionne_en_s\n",
    ", CASE WHEN somme_prix_unitaire = 0 THEN 0\n",
    "       ELSE 1 END\n",
    "       AS abo_payant\n",
    "FROM r\n",
    "INNER JOIN contacts c\n",
    "ON r.idContact = c.idContact\n",
    "INNER JOIN v\n",
    "ON r.idContact = v.idContact\n",
    "INNER JOIN top_cours_par_client t\n",
    "ON r.idContact = t.idContact;\n",
    "\"\"\")"
   ]
  },
  {
   "cell_type": "code",
   "execution_count": null,
   "id": "79be829b-197a-449f-a4a3-2b1d6c9af5fd",
   "metadata": {},
   "outputs": [],
   "source": []
  }
 ],
 "metadata": {
  "kernelspec": {
   "display_name": "Python 3 (ipykernel)",
   "language": "python",
   "name": "python3"
  },
  "language_info": {
   "codemirror_mode": {
    "name": "ipython",
    "version": 3
   },
   "file_extension": ".py",
   "mimetype": "text/x-python",
   "name": "python",
   "nbconvert_exporter": "python",
   "pygments_lexer": "ipython3",
   "version": "3.10.9"
  }
 },
 "nbformat": 4,
 "nbformat_minor": 5
}
